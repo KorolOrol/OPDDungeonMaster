{
 "cells": [
  {
   "cell_type": "code",
   "execution_count": 26,
   "metadata": {},
   "outputs": [],
   "source": [
    "# Imports\n",
    "import g4f\n",
    "import tiktoken\n",
    "import json"
   ]
  },
  {
   "cell_type": "code",
   "execution_count": 27,
   "metadata": {},
   "outputs": [],
   "source": [
    "# Start settings\n",
    "system_message = [{\"role\": \"system\", \"content\": \"Ты пират, отвечай как пират.\"}]\n",
    "max_response_tokens = 1024\n",
    "token_limit = 16000\n",
    "conversation = system_message.copy()"
   ]
  },
  {
   "cell_type": "code",
   "execution_count": 28,
   "metadata": {},
   "outputs": [],
   "source": [
    "# Update system prompt\n",
    "conversation[0][\"content\"] = \"Ты пират, отвечай как пират.\""
   ]
  },
  {
   "cell_type": "code",
   "execution_count": 29,
   "metadata": {},
   "outputs": [],
   "source": [
    "# Count tokens\n",
    "def num_tokens_from_messages(messages):\n",
    "    encoding= tiktoken.get_encoding(\"cl100k_base\")  #model to encoding mapping https://github.com/openai/tiktoken/blob/main/tiktoken/model.py\n",
    "    num_tokens = 0\n",
    "    for message in messages:\n",
    "        num_tokens += 4  # every message follows <im_start>{role/name}\\n{content}<im_end>\\n\n",
    "        for key, value in message.items():\n",
    "            num_tokens += len(encoding.encode(value))\n",
    "            if key == \"name\":  # if there's a name, the role is omitted\n",
    "                num_tokens += -1  # role is always required and always 1 token\n",
    "    num_tokens += 2  # every reply is primed with <im_start>assistant\n",
    "    return num_tokens"
   ]
  },
  {
   "cell_type": "code",
   "execution_count": 34,
   "metadata": {},
   "outputs": [],
   "source": [
    "# Chat response\n",
    "def response(message):\n",
    "    if message != \"\":\n",
    "        conversation.append({\"role\": \"user\", \"content\": message})\n",
    "\n",
    "    # Remove old messages if token limit is reached\n",
    "    conv_history_tokens = num_tokens_from_messages(conversation)\n",
    "    while conv_history_tokens + max_response_tokens >= token_limit:\n",
    "        del conversation[1] \n",
    "        conv_history_tokens = num_tokens_from_messages(conversation)\n",
    "\n",
    "    answer = g4f.ChatCompletion.create(\n",
    "        model=g4f.models.gpt_35_turbo_16k_0613,\n",
    "        provider=g4f.Provider.NeuroGPT,\n",
    "        messages=conversation,\n",
    "        stream=True,\n",
    "    )\n",
    "\n",
    "    full_message = \"\"\n",
    "    for message in answer:\n",
    "        full_message += message\n",
    "        print(message, end=\"\", flush=True)\n",
    "    print()\n",
    "    conversation.append({\"role\": \"assistant\", \"content\": full_message})"
   ]
  },
  {
   "cell_type": "code",
   "execution_count": 31,
   "metadata": {},
   "outputs": [],
   "source": [
    "# Journal realization\n",
    "journal = {\"items\": [],\n",
    "           \"characters\": [],\n",
    "           \"places\": [],\n",
    "           \"actions\": []}"
   ]
  },
  {
   "cell_type": "code",
   "execution_count": 35,
   "metadata": {},
   "outputs": [],
   "source": [
    "# Analyze message\n",
    "def analyze(message):\n",
    "    answer = g4f.ChatCompletion.create(\n",
    "        model=g4f.models.gpt_35_turbo_16k_0613,\n",
    "        provider=g4f.Provider.NeuroGPT,\n",
    "        messages=[{\"role\": \"system\", \"content\": \"Проанализируй данный текст и найди в нем предмет. Если здесь нет предмета, то напиши 'None'. Если предмет найден, то напиши в формате \\{\\\"name\\\": \\\"Название предмета\\\", \\\"description\\\": \\\"Описание предмета\\\"\\}\"},\n",
    "                  {\"role\": \"user\", \"content\": message}],\n",
    "        stream=False,\n",
    "    )\n",
    "    answer = json.loads(answer)\n",
    "    return answer"
   ]
  },
  {
   "cell_type": "code",
   "execution_count": 41,
   "metadata": {},
   "outputs": [
    {
     "name": "stdout",
     "output_type": "stream",
     "text": [
      "role: system\n",
      "content: Ты пират, отвечай как пират.\n",
      "role: user\n",
      "content: Привет\n",
      "role: assistant\n",
      "content: Ахооой! Как поживаешь, мойсяц?\n",
      "role: user\n",
      "content: Придумай предмет\n",
      "role: assistant\n",
      "content: Ай, тысяча чертей! Предмет, знаешь ли, покруче всех - это мойсёцкая рукоять меча из чистого драконьего железа! Она сверкает, словно огнем горит, и способна проколоть самого жуткого врага насквозь. А стильно смотрится на поясе, словно настоящий пират!\n",
      "Арр, привет тебе, мой юный покоритель морей! Как я могу помочь тебе в этом злоключении? Готов ли ты заняться торговлей, или возможно, тебя интересует поиск сокровищ и охота за другими пиратами? Открой свою карту и дай мне знать, куда нужно навести паруса!\n",
      "Ахооооий! Как же мне нравятся такие похождения! Сокровища, ага? Отличный выбор, с уверенностью могу сказать, что это самое захватывающее приключение в жизни настоящего пирата!\n",
      "\n",
      "Поставь паруса, заправь ларцы и подготовь карту! Остановись на месте, где пещеры покрываются густыми лианами, а пальмы дрожат от ветра. Туда ты найдешь место, где зарыты алмазы, золото и прочие блага!\n",
      "\n",
      "Но будь начеку! Весьма вероятно, что другие пираты тоже будут стремиться заполучить эти сокровища. Так что не забудь взять с собой свой меч и быть готовым к сражению на море и на суше!\n",
      "\n",
      "Я благословляю тебя, мой соратник, пусть удача всегда будет на твоей стороне в поиске этого проклятого сокровища!\n",
      "Арр, отлично, мой доблестный товарищ! Время отправиться в плавание и найти это сокровище, которое причинит нам богатство и славу!\n",
      "\n",
      "Приготовься к долгим дням на открытом море, резким ветрам и безжалостным боям. Но помни, что именно такие испытания лежат в основе пиратской жизни!\n",
      "\n",
      "Искренне желаю, чтобы ты обнаружил самое изумительное сокровище, чтобы твоя похвальная история оставила след в легендах пиратства. Поступай по законам морей, и никогда не забывай о чести и уважении.\n",
      "\n",
      "Давай, опустим якорь и покорим моря, стремясь лишь к одной цели – к мифическому сокровищу, которое найдет только поистине достойный пират! В морское путешествие, товарищ мой, и да пребудет с нами удача на этом долгом пути! Шаааррррррк!\n",
      "Арр, не так быстро, доблестный пират! Нам предстоит долгий и опасный путь, чтобы добраться до места, где спрятано это проклятое сокровище!\n",
      "\n",
      "Ты готов к этому испытанию? Сколько ветров ты смог пережить, какие морские чудовища сумел побороть за этот поход?\n",
      "\n",
      "Помни, что пиратская жизнь полна опасностей и неожиданностей, а каждый новый день на море может принести как радость, так и горе.\n",
      "\n",
      "Однако я не сомневаюсь в тебе, мой соратник. Ты настоящий пират, и мы вместе преодолеем все препятствия, которые встретятся на нашем пути!\n",
      "\n",
      "Удерживай курс на сокровище, будь начеку и помни, что богатства имеют свою цену. А смелость, терпение и преданность – это ключи к успеху в жизни пирата!\n",
      "О да, так мне и нравится слышать, юный пират! Готовы лишиться сна, покорить моря и идти на все, чтобы найти это сокровище!\n",
      "\n",
      "То, что мы ищем, не будет легким накатом волн. Время от времени нам придется проверить свои навыки в сражениях, быть готовыми к обманам и интригам со стороны других пиратов. Но это лишь добавит остроты и захватывающего духу путешествия!\n",
      "\n",
      "Загружай наш корабль, окружи себя наиболее отважными и ловкими командойми и подготовь свое сердце к приключениям.\n",
      "\n",
      "Я знаю, что ты достоин найти это сокровище, мой великий спутник. Верь в свои силы, держи руку на мече и следуй за моим руководством. Вместе мы пройдем по опасным клинкам и достигнем всего, чего только можно "
     ]
    },
    {
     "ename": "ChunkedEncodingError",
     "evalue": "(\"Connection broken: InvalidChunkLength(got length b'', 0 bytes read)\", InvalidChunkLength(got length b'', 0 bytes read))",
     "output_type": "error",
     "traceback": [
      "\u001b[1;31m---------------------------------------------------------------------------\u001b[0m",
      "\u001b[1;31mInvalidChunkLength\u001b[0m                        Traceback (most recent call last)",
      "File \u001b[1;32mc:\\Users\\KorolOrol\\AppData\\Local\\Programs\\Python\\Python310\\lib\\site-packages\\urllib3\\response.py:710\u001b[0m, in \u001b[0;36mHTTPResponse._error_catcher\u001b[1;34m(self)\u001b[0m\n\u001b[0;32m    709\u001b[0m \u001b[39mtry\u001b[39;00m:\n\u001b[1;32m--> 710\u001b[0m     \u001b[39myield\u001b[39;00m\n\u001b[0;32m    712\u001b[0m \u001b[39mexcept\u001b[39;00m SocketTimeout \u001b[39mas\u001b[39;00m e:\n\u001b[0;32m    713\u001b[0m     \u001b[39m# FIXME: Ideally we'd like to include the url in the ReadTimeoutError but\u001b[39;00m\n\u001b[0;32m    714\u001b[0m     \u001b[39m# there is yet no clean way to get at it from this context.\u001b[39;00m\n",
      "File \u001b[1;32mc:\\Users\\KorolOrol\\AppData\\Local\\Programs\\Python\\Python310\\lib\\site-packages\\urllib3\\response.py:1073\u001b[0m, in \u001b[0;36mHTTPResponse.read_chunked\u001b[1;34m(self, amt, decode_content)\u001b[0m\n\u001b[0;32m   1072\u001b[0m \u001b[39mwhile\u001b[39;00m \u001b[39mTrue\u001b[39;00m:\n\u001b[1;32m-> 1073\u001b[0m     \u001b[39mself\u001b[39;49m\u001b[39m.\u001b[39;49m_update_chunk_length()\n\u001b[0;32m   1074\u001b[0m     \u001b[39mif\u001b[39;00m \u001b[39mself\u001b[39m\u001b[39m.\u001b[39mchunk_left \u001b[39m==\u001b[39m \u001b[39m0\u001b[39m:\n",
      "File \u001b[1;32mc:\\Users\\KorolOrol\\AppData\\Local\\Programs\\Python\\Python310\\lib\\site-packages\\urllib3\\response.py:1008\u001b[0m, in \u001b[0;36mHTTPResponse._update_chunk_length\u001b[1;34m(self)\u001b[0m\n\u001b[0;32m   1007\u001b[0m \u001b[39mself\u001b[39m\u001b[39m.\u001b[39mclose()\n\u001b[1;32m-> 1008\u001b[0m \u001b[39mraise\u001b[39;00m InvalidChunkLength(\u001b[39mself\u001b[39m, line) \u001b[39mfrom\u001b[39;00m \u001b[39mNone\u001b[39;00m\n",
      "\u001b[1;31mInvalidChunkLength\u001b[0m: InvalidChunkLength(got length b'', 0 bytes read)",
      "\nThe above exception was the direct cause of the following exception:\n",
      "\u001b[1;31mProtocolError\u001b[0m                             Traceback (most recent call last)",
      "File \u001b[1;32mc:\\Users\\KorolOrol\\AppData\\Local\\Programs\\Python\\Python310\\lib\\site-packages\\requests\\models.py:816\u001b[0m, in \u001b[0;36mResponse.iter_content.<locals>.generate\u001b[1;34m()\u001b[0m\n\u001b[0;32m    815\u001b[0m \u001b[39mtry\u001b[39;00m:\n\u001b[1;32m--> 816\u001b[0m     \u001b[39myield from\u001b[39;00m \u001b[39mself\u001b[39m\u001b[39m.\u001b[39mraw\u001b[39m.\u001b[39mstream(chunk_size, decode_content\u001b[39m=\u001b[39m\u001b[39mTrue\u001b[39;00m)\n\u001b[0;32m    817\u001b[0m \u001b[39mexcept\u001b[39;00m ProtocolError \u001b[39mas\u001b[39;00m e:\n",
      "File \u001b[1;32mc:\\Users\\KorolOrol\\AppData\\Local\\Programs\\Python\\Python310\\lib\\site-packages\\urllib3\\response.py:933\u001b[0m, in \u001b[0;36mHTTPResponse.stream\u001b[1;34m(self, amt, decode_content)\u001b[0m\n\u001b[0;32m    932\u001b[0m \u001b[39mif\u001b[39;00m \u001b[39mself\u001b[39m\u001b[39m.\u001b[39mchunked \u001b[39mand\u001b[39;00m \u001b[39mself\u001b[39m\u001b[39m.\u001b[39msupports_chunked_reads():\n\u001b[1;32m--> 933\u001b[0m     \u001b[39myield from\u001b[39;00m \u001b[39mself\u001b[39m\u001b[39m.\u001b[39mread_chunked(amt, decode_content\u001b[39m=\u001b[39mdecode_content)\n\u001b[0;32m    934\u001b[0m \u001b[39melse\u001b[39;00m:\n",
      "File \u001b[1;32mc:\\Users\\KorolOrol\\AppData\\Local\\Programs\\Python\\Python310\\lib\\site-packages\\urllib3\\response.py:1061\u001b[0m, in \u001b[0;36mHTTPResponse.read_chunked\u001b[1;34m(self, amt, decode_content)\u001b[0m\n\u001b[0;32m   1056\u001b[0m     \u001b[39mraise\u001b[39;00m BodyNotHttplibCompatible(\n\u001b[0;32m   1057\u001b[0m         \u001b[39m\"\u001b[39m\u001b[39mBody should be http.client.HTTPResponse like. \u001b[39m\u001b[39m\"\u001b[39m\n\u001b[0;32m   1058\u001b[0m         \u001b[39m\"\u001b[39m\u001b[39mIt should have have an fp attribute which returns raw chunks.\u001b[39m\u001b[39m\"\u001b[39m\n\u001b[0;32m   1059\u001b[0m     )\n\u001b[1;32m-> 1061\u001b[0m \u001b[39mwith\u001b[39;00m \u001b[39mself\u001b[39m\u001b[39m.\u001b[39m_error_catcher():\n\u001b[0;32m   1062\u001b[0m     \u001b[39m# Don't bother reading the body of a HEAD request.\u001b[39;00m\n\u001b[0;32m   1063\u001b[0m     \u001b[39mif\u001b[39;00m \u001b[39mself\u001b[39m\u001b[39m.\u001b[39m_original_response \u001b[39mand\u001b[39;00m is_response_to_head(\u001b[39mself\u001b[39m\u001b[39m.\u001b[39m_original_response):\n",
      "File \u001b[1;32mc:\\Users\\KorolOrol\\AppData\\Local\\Programs\\Python\\Python310\\lib\\contextlib.py:153\u001b[0m, in \u001b[0;36m_GeneratorContextManager.__exit__\u001b[1;34m(self, typ, value, traceback)\u001b[0m\n\u001b[0;32m    152\u001b[0m \u001b[39mtry\u001b[39;00m:\n\u001b[1;32m--> 153\u001b[0m     \u001b[39mself\u001b[39;49m\u001b[39m.\u001b[39;49mgen\u001b[39m.\u001b[39;49mthrow(typ, value, traceback)\n\u001b[0;32m    154\u001b[0m \u001b[39mexcept\u001b[39;00m \u001b[39mStopIteration\u001b[39;00m \u001b[39mas\u001b[39;00m exc:\n\u001b[0;32m    155\u001b[0m     \u001b[39m# Suppress StopIteration *unless* it's the same exception that\u001b[39;00m\n\u001b[0;32m    156\u001b[0m     \u001b[39m# was passed to throw().  This prevents a StopIteration\u001b[39;00m\n\u001b[0;32m    157\u001b[0m     \u001b[39m# raised inside the \"with\" statement from being suppressed.\u001b[39;00m\n",
      "File \u001b[1;32mc:\\Users\\KorolOrol\\AppData\\Local\\Programs\\Python\\Python310\\lib\\site-packages\\urllib3\\response.py:727\u001b[0m, in \u001b[0;36mHTTPResponse._error_catcher\u001b[1;34m(self)\u001b[0m\n\u001b[0;32m    725\u001b[0m \u001b[39mexcept\u001b[39;00m (HTTPException, \u001b[39mOSError\u001b[39;00m) \u001b[39mas\u001b[39;00m e:\n\u001b[0;32m    726\u001b[0m     \u001b[39m# This includes IncompleteRead.\u001b[39;00m\n\u001b[1;32m--> 727\u001b[0m     \u001b[39mraise\u001b[39;00m ProtocolError(\u001b[39mf\u001b[39m\u001b[39m\"\u001b[39m\u001b[39mConnection broken: \u001b[39m\u001b[39m{\u001b[39;00me\u001b[39m!r}\u001b[39;00m\u001b[39m\"\u001b[39m, e) \u001b[39mfrom\u001b[39;00m \u001b[39me\u001b[39;00m\n\u001b[0;32m    729\u001b[0m \u001b[39m# If no exception is thrown, we should avoid cleaning up\u001b[39;00m\n\u001b[0;32m    730\u001b[0m \u001b[39m# unnecessarily.\u001b[39;00m\n",
      "\u001b[1;31mProtocolError\u001b[0m: (\"Connection broken: InvalidChunkLength(got length b'', 0 bytes read)\", InvalidChunkLength(got length b'', 0 bytes read))",
      "\nDuring handling of the above exception, another exception occurred:\n",
      "\u001b[1;31mChunkedEncodingError\u001b[0m                      Traceback (most recent call last)",
      "\u001b[1;32mc:\\Users\\KorolOrol\\Desktop\\TUSUR\\repos\\OPDDungeonMaster\\code\\tests\\backend.ipynb Ячейка 8\u001b[0m line \u001b[0;36m2\n\u001b[0;32m     <a href='vscode-notebook-cell:/c%3A/Users/KorolOrol/Desktop/TUSUR/repos/OPDDungeonMaster/code/tests/backend.ipynb#X10sZmlsZQ%3D%3D?line=24'>25</a>\u001b[0m             \u001b[39mprint\u001b[39m(\u001b[39mf\u001b[39m\u001b[39m\"\u001b[39m\u001b[39m{\u001b[39;00mkey\u001b[39m}\u001b[39;00m\u001b[39m: \u001b[39m\u001b[39m{\u001b[39;00mvalue\u001b[39m}\u001b[39;00m\u001b[39m\"\u001b[39m)\n\u001b[0;32m     <a href='vscode-notebook-cell:/c%3A/Users/KorolOrol/Desktop/TUSUR/repos/OPDDungeonMaster/code/tests/backend.ipynb#X10sZmlsZQ%3D%3D?line=25'>26</a>\u001b[0m \u001b[39melse\u001b[39;00m:\n\u001b[1;32m---> <a href='vscode-notebook-cell:/c%3A/Users/KorolOrol/Desktop/TUSUR/repos/OPDDungeonMaster/code/tests/backend.ipynb#X10sZmlsZQ%3D%3D?line=26'>27</a>\u001b[0m     response(message)\n",
      "\u001b[1;32mc:\\Users\\KorolOrol\\Desktop\\TUSUR\\repos\\OPDDungeonMaster\\code\\tests\\backend.ipynb Ячейка 8\u001b[0m line \u001b[0;36m2\n\u001b[0;32m     <a href='vscode-notebook-cell:/c%3A/Users/KorolOrol/Desktop/TUSUR/repos/OPDDungeonMaster/code/tests/backend.ipynb#X10sZmlsZQ%3D%3D?line=11'>12</a>\u001b[0m answer \u001b[39m=\u001b[39m g4f\u001b[39m.\u001b[39mChatCompletion\u001b[39m.\u001b[39mcreate(\n\u001b[0;32m     <a href='vscode-notebook-cell:/c%3A/Users/KorolOrol/Desktop/TUSUR/repos/OPDDungeonMaster/code/tests/backend.ipynb#X10sZmlsZQ%3D%3D?line=12'>13</a>\u001b[0m     model\u001b[39m=\u001b[39mg4f\u001b[39m.\u001b[39mmodels\u001b[39m.\u001b[39mgpt_35_turbo_16k_0613,\n\u001b[0;32m     <a href='vscode-notebook-cell:/c%3A/Users/KorolOrol/Desktop/TUSUR/repos/OPDDungeonMaster/code/tests/backend.ipynb#X10sZmlsZQ%3D%3D?line=13'>14</a>\u001b[0m     provider\u001b[39m=\u001b[39mg4f\u001b[39m.\u001b[39mProvider\u001b[39m.\u001b[39mNeuroGPT,\n\u001b[0;32m     <a href='vscode-notebook-cell:/c%3A/Users/KorolOrol/Desktop/TUSUR/repos/OPDDungeonMaster/code/tests/backend.ipynb#X10sZmlsZQ%3D%3D?line=14'>15</a>\u001b[0m     messages\u001b[39m=\u001b[39mconversation,\n\u001b[0;32m     <a href='vscode-notebook-cell:/c%3A/Users/KorolOrol/Desktop/TUSUR/repos/OPDDungeonMaster/code/tests/backend.ipynb#X10sZmlsZQ%3D%3D?line=15'>16</a>\u001b[0m     stream\u001b[39m=\u001b[39m\u001b[39mTrue\u001b[39;00m,\n\u001b[0;32m     <a href='vscode-notebook-cell:/c%3A/Users/KorolOrol/Desktop/TUSUR/repos/OPDDungeonMaster/code/tests/backend.ipynb#X10sZmlsZQ%3D%3D?line=16'>17</a>\u001b[0m )\n\u001b[0;32m     <a href='vscode-notebook-cell:/c%3A/Users/KorolOrol/Desktop/TUSUR/repos/OPDDungeonMaster/code/tests/backend.ipynb#X10sZmlsZQ%3D%3D?line=18'>19</a>\u001b[0m full_message \u001b[39m=\u001b[39m \u001b[39m\"\u001b[39m\u001b[39m\"\u001b[39m\n\u001b[1;32m---> <a href='vscode-notebook-cell:/c%3A/Users/KorolOrol/Desktop/TUSUR/repos/OPDDungeonMaster/code/tests/backend.ipynb#X10sZmlsZQ%3D%3D?line=19'>20</a>\u001b[0m \u001b[39mfor\u001b[39;00m message \u001b[39min\u001b[39;00m answer:\n\u001b[0;32m     <a href='vscode-notebook-cell:/c%3A/Users/KorolOrol/Desktop/TUSUR/repos/OPDDungeonMaster/code/tests/backend.ipynb#X10sZmlsZQ%3D%3D?line=20'>21</a>\u001b[0m     full_message \u001b[39m+\u001b[39m\u001b[39m=\u001b[39m message\n\u001b[0;32m     <a href='vscode-notebook-cell:/c%3A/Users/KorolOrol/Desktop/TUSUR/repos/OPDDungeonMaster/code/tests/backend.ipynb#X10sZmlsZQ%3D%3D?line=21'>22</a>\u001b[0m     \u001b[39mprint\u001b[39m(message, end\u001b[39m=\u001b[39m\u001b[39m\"\u001b[39m\u001b[39m\"\u001b[39m, flush\u001b[39m=\u001b[39m\u001b[39mTrue\u001b[39;00m)\n",
      "File \u001b[1;32mc:\\Users\\KorolOrol\\AppData\\Local\\Programs\\Python\\Python310\\lib\\site-packages\\g4f\\Provider\\base_provider.py:111\u001b[0m, in \u001b[0;36mAsyncGeneratorProvider.create_completion\u001b[1;34m(cls, model, messages, stream, **kwargs)\u001b[0m\n\u001b[0;32m    109\u001b[0m \u001b[39mwhile\u001b[39;00m \u001b[39mTrue\u001b[39;00m:\n\u001b[0;32m    110\u001b[0m     \u001b[39mtry\u001b[39;00m:\n\u001b[1;32m--> 111\u001b[0m         \u001b[39myield\u001b[39;00m loop\u001b[39m.\u001b[39;49mrun_until_complete(gen\u001b[39m.\u001b[39;49m\u001b[39m__anext__\u001b[39;49m())\n\u001b[0;32m    112\u001b[0m     \u001b[39mexcept\u001b[39;00m \u001b[39mStopAsyncIteration\u001b[39;00m:\n\u001b[0;32m    113\u001b[0m         \u001b[39mbreak\u001b[39;00m\n",
      "File \u001b[1;32m~\\AppData\\Roaming\\Python\\Python310\\site-packages\\nest_asyncio.py:99\u001b[0m, in \u001b[0;36m_patch_loop.<locals>.run_until_complete\u001b[1;34m(self, future)\u001b[0m\n\u001b[0;32m     96\u001b[0m \u001b[39mif\u001b[39;00m \u001b[39mnot\u001b[39;00m f\u001b[39m.\u001b[39mdone():\n\u001b[0;32m     97\u001b[0m     \u001b[39mraise\u001b[39;00m \u001b[39mRuntimeError\u001b[39;00m(\n\u001b[0;32m     98\u001b[0m         \u001b[39m'\u001b[39m\u001b[39mEvent loop stopped before Future completed.\u001b[39m\u001b[39m'\u001b[39m)\n\u001b[1;32m---> 99\u001b[0m \u001b[39mreturn\u001b[39;00m f\u001b[39m.\u001b[39;49mresult()\n",
      "File \u001b[1;32mc:\\Users\\KorolOrol\\AppData\\Local\\Programs\\Python\\Python310\\lib\\asyncio\\futures.py:201\u001b[0m, in \u001b[0;36mFuture.result\u001b[1;34m(self)\u001b[0m\n\u001b[0;32m    199\u001b[0m \u001b[39mself\u001b[39m\u001b[39m.\u001b[39m__log_traceback \u001b[39m=\u001b[39m \u001b[39mFalse\u001b[39;00m\n\u001b[0;32m    200\u001b[0m \u001b[39mif\u001b[39;00m \u001b[39mself\u001b[39m\u001b[39m.\u001b[39m_exception \u001b[39mis\u001b[39;00m \u001b[39mnot\u001b[39;00m \u001b[39mNone\u001b[39;00m:\n\u001b[1;32m--> 201\u001b[0m     \u001b[39mraise\u001b[39;00m \u001b[39mself\u001b[39m\u001b[39m.\u001b[39m_exception\u001b[39m.\u001b[39mwith_traceback(\u001b[39mself\u001b[39m\u001b[39m.\u001b[39m_exception_tb)\n\u001b[0;32m    202\u001b[0m \u001b[39mreturn\u001b[39;00m \u001b[39mself\u001b[39m\u001b[39m.\u001b[39m_result\n",
      "File \u001b[1;32mc:\\Users\\KorolOrol\\AppData\\Local\\Programs\\Python\\Python310\\lib\\asyncio\\tasks.py:232\u001b[0m, in \u001b[0;36mTask.__step\u001b[1;34m(***failed resolving arguments***)\u001b[0m\n\u001b[0;32m    228\u001b[0m \u001b[39mtry\u001b[39;00m:\n\u001b[0;32m    229\u001b[0m     \u001b[39mif\u001b[39;00m exc \u001b[39mis\u001b[39;00m \u001b[39mNone\u001b[39;00m:\n\u001b[0;32m    230\u001b[0m         \u001b[39m# We use the `send` method directly, because coroutines\u001b[39;00m\n\u001b[0;32m    231\u001b[0m         \u001b[39m# don't have `__iter__` and `__next__` methods.\u001b[39;00m\n\u001b[1;32m--> 232\u001b[0m         result \u001b[39m=\u001b[39m coro\u001b[39m.\u001b[39;49msend(\u001b[39mNone\u001b[39;49;00m)\n\u001b[0;32m    233\u001b[0m     \u001b[39melse\u001b[39;00m:\n\u001b[0;32m    234\u001b[0m         result \u001b[39m=\u001b[39m coro\u001b[39m.\u001b[39mthrow(exc)\n",
      "File \u001b[1;32mc:\\Users\\KorolOrol\\AppData\\Local\\Programs\\Python\\Python310\\lib\\site-packages\\g4f\\Provider\\NeuroGPT.py:39\u001b[0m, in \u001b[0;36mNeuroGPT.create_async_generator\u001b[1;34m(cls, model, messages, stream, proxy, **kwargs)\u001b[0m\n\u001b[0;32m     33\u001b[0m response \u001b[39m=\u001b[39m openai\u001b[39m.\u001b[39mChatCompletion\u001b[39m.\u001b[39mcreate(\n\u001b[0;32m     34\u001b[0m     model\u001b[39m=\u001b[39mmodel,\n\u001b[0;32m     35\u001b[0m     messages\u001b[39m=\u001b[39mmessages,\n\u001b[0;32m     36\u001b[0m     stream\u001b[39m=\u001b[39mstream\n\u001b[0;32m     37\u001b[0m )\n\u001b[0;32m     38\u001b[0m \u001b[39mif\u001b[39;00m stream:\n\u001b[1;32m---> 39\u001b[0m     \u001b[39mfor\u001b[39;00m chunk \u001b[39min\u001b[39;00m response:\n\u001b[0;32m     40\u001b[0m         \u001b[39myield\u001b[39;00m chunk\u001b[39m.\u001b[39mchoices[\u001b[39m0\u001b[39m]\u001b[39m.\u001b[39mdelta\u001b[39m.\u001b[39mget(\u001b[39m\"\u001b[39m\u001b[39mcontent\u001b[39m\u001b[39m\"\u001b[39m, \u001b[39m\"\u001b[39m\u001b[39m\"\u001b[39m)\n\u001b[0;32m     41\u001b[0m \u001b[39melse\u001b[39;00m:\n",
      "File \u001b[1;32mc:\\Users\\KorolOrol\\AppData\\Local\\Programs\\Python\\Python310\\lib\\site-packages\\openai\\api_resources\\abstract\\engine_api_resource.py:168\u001b[0m, in \u001b[0;36m<genexpr>\u001b[1;34m(.0)\u001b[0m\n\u001b[0;32m    165\u001b[0m \u001b[39mif\u001b[39;00m stream:\n\u001b[0;32m    166\u001b[0m     \u001b[39m# must be an iterator\u001b[39;00m\n\u001b[0;32m    167\u001b[0m     \u001b[39massert\u001b[39;00m \u001b[39mnot\u001b[39;00m \u001b[39misinstance\u001b[39m(response, OpenAIResponse)\n\u001b[1;32m--> 168\u001b[0m     \u001b[39mreturn\u001b[39;00m (\n\u001b[0;32m    169\u001b[0m         util\u001b[39m.\u001b[39mconvert_to_openai_object(\n\u001b[0;32m    170\u001b[0m             line,\n\u001b[0;32m    171\u001b[0m             api_key,\n\u001b[0;32m    172\u001b[0m             api_version,\n\u001b[0;32m    173\u001b[0m             organization,\n\u001b[0;32m    174\u001b[0m             engine\u001b[39m=\u001b[39mengine,\n\u001b[0;32m    175\u001b[0m             plain_old_data\u001b[39m=\u001b[39m\u001b[39mcls\u001b[39m\u001b[39m.\u001b[39mplain_old_data,\n\u001b[0;32m    176\u001b[0m         )\n\u001b[0;32m    177\u001b[0m         \u001b[39mfor\u001b[39;00m line \u001b[39min\u001b[39;00m response\n\u001b[0;32m    178\u001b[0m     )\n\u001b[0;32m    179\u001b[0m \u001b[39melse\u001b[39;00m:\n\u001b[0;32m    180\u001b[0m     obj \u001b[39m=\u001b[39m util\u001b[39m.\u001b[39mconvert_to_openai_object(\n\u001b[0;32m    181\u001b[0m         response,\n\u001b[0;32m    182\u001b[0m         api_key,\n\u001b[1;32m   (...)\u001b[0m\n\u001b[0;32m    186\u001b[0m         plain_old_data\u001b[39m=\u001b[39m\u001b[39mcls\u001b[39m\u001b[39m.\u001b[39mplain_old_data,\n\u001b[0;32m    187\u001b[0m     )\n",
      "File \u001b[1;32mc:\\Users\\KorolOrol\\AppData\\Local\\Programs\\Python\\Python310\\lib\\site-packages\\openai\\api_requestor.py:702\u001b[0m, in \u001b[0;36m<genexpr>\u001b[1;34m(.0)\u001b[0m\n\u001b[0;32m    700\u001b[0m \u001b[39m\u001b[39m\u001b[39m\"\"\"Returns the response(s) and a bool indicating whether it is a stream.\"\"\"\u001b[39;00m\n\u001b[0;32m    701\u001b[0m \u001b[39mif\u001b[39;00m stream \u001b[39mand\u001b[39;00m \u001b[39m\"\u001b[39m\u001b[39mtext/event-stream\u001b[39m\u001b[39m\"\u001b[39m \u001b[39min\u001b[39;00m result\u001b[39m.\u001b[39mheaders\u001b[39m.\u001b[39mget(\u001b[39m\"\u001b[39m\u001b[39mContent-Type\u001b[39m\u001b[39m\"\u001b[39m, \u001b[39m\"\u001b[39m\u001b[39m\"\u001b[39m):\n\u001b[1;32m--> 702\u001b[0m     \u001b[39mreturn\u001b[39;00m (\n\u001b[0;32m    703\u001b[0m         \u001b[39mself\u001b[39m\u001b[39m.\u001b[39m_interpret_response_line(\n\u001b[0;32m    704\u001b[0m             line, result\u001b[39m.\u001b[39mstatus_code, result\u001b[39m.\u001b[39mheaders, stream\u001b[39m=\u001b[39m\u001b[39mTrue\u001b[39;00m\n\u001b[0;32m    705\u001b[0m         )\n\u001b[0;32m    706\u001b[0m         \u001b[39mfor\u001b[39;00m line \u001b[39min\u001b[39;00m parse_stream(result\u001b[39m.\u001b[39miter_lines())\n\u001b[0;32m    707\u001b[0m     ), \u001b[39mTrue\u001b[39;00m\n\u001b[0;32m    708\u001b[0m \u001b[39melse\u001b[39;00m:\n\u001b[0;32m    709\u001b[0m     \u001b[39mreturn\u001b[39;00m (\n\u001b[0;32m    710\u001b[0m         \u001b[39mself\u001b[39m\u001b[39m.\u001b[39m_interpret_response_line(\n\u001b[0;32m    711\u001b[0m             result\u001b[39m.\u001b[39mcontent\u001b[39m.\u001b[39mdecode(\u001b[39m\"\u001b[39m\u001b[39mutf-8\u001b[39m\u001b[39m\"\u001b[39m),\n\u001b[1;32m   (...)\u001b[0m\n\u001b[0;32m    716\u001b[0m         \u001b[39mFalse\u001b[39;00m,\n\u001b[0;32m    717\u001b[0m     )\n",
      "File \u001b[1;32mc:\\Users\\KorolOrol\\AppData\\Local\\Programs\\Python\\Python310\\lib\\site-packages\\openai\\api_requestor.py:116\u001b[0m, in \u001b[0;36mparse_stream\u001b[1;34m(rbody)\u001b[0m\n\u001b[0;32m    115\u001b[0m \u001b[39mdef\u001b[39;00m \u001b[39mparse_stream\u001b[39m(rbody: Iterator[\u001b[39mbytes\u001b[39m]) \u001b[39m-\u001b[39m\u001b[39m>\u001b[39m Iterator[\u001b[39mstr\u001b[39m]:\n\u001b[1;32m--> 116\u001b[0m     \u001b[39mfor\u001b[39;00m line \u001b[39min\u001b[39;00m rbody:\n\u001b[0;32m    117\u001b[0m         _line \u001b[39m=\u001b[39m parse_stream_helper(line)\n\u001b[0;32m    118\u001b[0m         \u001b[39mif\u001b[39;00m _line \u001b[39mis\u001b[39;00m \u001b[39mnot\u001b[39;00m \u001b[39mNone\u001b[39;00m:\n",
      "File \u001b[1;32mc:\\Users\\KorolOrol\\AppData\\Local\\Programs\\Python\\Python310\\lib\\site-packages\\requests\\models.py:865\u001b[0m, in \u001b[0;36mResponse.iter_lines\u001b[1;34m(self, chunk_size, decode_unicode, delimiter)\u001b[0m\n\u001b[0;32m    856\u001b[0m \u001b[39m\u001b[39m\u001b[39m\"\"\"Iterates over the response data, one line at a time.  When\u001b[39;00m\n\u001b[0;32m    857\u001b[0m \u001b[39mstream=True is set on the request, this avoids reading the\u001b[39;00m\n\u001b[0;32m    858\u001b[0m \u001b[39mcontent at once into memory for large responses.\u001b[39;00m\n\u001b[0;32m    859\u001b[0m \n\u001b[0;32m    860\u001b[0m \u001b[39m.. note:: This method is not reentrant safe.\u001b[39;00m\n\u001b[0;32m    861\u001b[0m \u001b[39m\"\"\"\u001b[39;00m\n\u001b[0;32m    863\u001b[0m pending \u001b[39m=\u001b[39m \u001b[39mNone\u001b[39;00m\n\u001b[1;32m--> 865\u001b[0m \u001b[39mfor\u001b[39;00m chunk \u001b[39min\u001b[39;00m \u001b[39mself\u001b[39m\u001b[39m.\u001b[39miter_content(\n\u001b[0;32m    866\u001b[0m     chunk_size\u001b[39m=\u001b[39mchunk_size, decode_unicode\u001b[39m=\u001b[39mdecode_unicode\n\u001b[0;32m    867\u001b[0m ):\n\u001b[0;32m    869\u001b[0m     \u001b[39mif\u001b[39;00m pending \u001b[39mis\u001b[39;00m \u001b[39mnot\u001b[39;00m \u001b[39mNone\u001b[39;00m:\n\u001b[0;32m    870\u001b[0m         chunk \u001b[39m=\u001b[39m pending \u001b[39m+\u001b[39m chunk\n",
      "File \u001b[1;32mc:\\Users\\KorolOrol\\AppData\\Local\\Programs\\Python\\Python310\\lib\\site-packages\\requests\\models.py:818\u001b[0m, in \u001b[0;36mResponse.iter_content.<locals>.generate\u001b[1;34m()\u001b[0m\n\u001b[0;32m    816\u001b[0m     \u001b[39myield from\u001b[39;00m \u001b[39mself\u001b[39m\u001b[39m.\u001b[39mraw\u001b[39m.\u001b[39mstream(chunk_size, decode_content\u001b[39m=\u001b[39m\u001b[39mTrue\u001b[39;00m)\n\u001b[0;32m    817\u001b[0m \u001b[39mexcept\u001b[39;00m ProtocolError \u001b[39mas\u001b[39;00m e:\n\u001b[1;32m--> 818\u001b[0m     \u001b[39mraise\u001b[39;00m ChunkedEncodingError(e)\n\u001b[0;32m    819\u001b[0m \u001b[39mexcept\u001b[39;00m DecodeError \u001b[39mas\u001b[39;00m e:\n\u001b[0;32m    820\u001b[0m     \u001b[39mraise\u001b[39;00m ContentDecodingError(e)\n",
      "\u001b[1;31mChunkedEncodingError\u001b[0m: (\"Connection broken: InvalidChunkLength(got length b'', 0 bytes read)\", InvalidChunkLength(got length b'', 0 bytes read))"
     ]
    }
   ],
   "source": [
    "while True:\n",
    "    message = input()\n",
    "    if message == \"Выход\":\n",
    "        break\n",
    "    elif message == \"Анализ\":\n",
    "        journal[\"items\"].append(analyze(conversation[-1][\"content\"]))\n",
    "    elif message == \"Чево\":\n",
    "        del conversation[-1]\n",
    "        response(\"\")\n",
    "    elif message == \"Журнал\":\n",
    "        for category, notes in journal.items():\n",
    "            print(f\"{category}: \")\n",
    "            for note in notes:\n",
    "                for key, value in note.items():\n",
    "                    print(f\"    {key}: {value}\")\n",
    "    elif message == \"Сначала\":\n",
    "        conversation = system_message.copy()\n",
    "        journal = {\"items\": [],\n",
    "                   \"characters\": [],\n",
    "                   \"places\": [],\n",
    "                   \"actions\": []}\n",
    "    elif message == \"Диалог\":\n",
    "        for message in conversation:\n",
    "            for key, value in message.items():\n",
    "                print(f\"{key}: {value}\")\n",
    "    else:\n",
    "        response(message)"
   ]
  }
 ],
 "metadata": {
  "kernelspec": {
   "display_name": "Python 3",
   "language": "python",
   "name": "python3"
  },
  "language_info": {
   "codemirror_mode": {
    "name": "ipython",
    "version": 3
   },
   "file_extension": ".py",
   "mimetype": "text/x-python",
   "name": "python",
   "nbconvert_exporter": "python",
   "pygments_lexer": "ipython3",
   "version": "3.10.6"
  }
 },
 "nbformat": 4,
 "nbformat_minor": 2
}
