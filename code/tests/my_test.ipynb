{
 "cells": [
  {
   "cell_type": "code",
   "execution_count": 1,
   "metadata": {},
   "outputs": [],
   "source": [
    "# Imports\n",
    "import sys\n",
    "from pathlib import Path\n",
    "import tiktoken\n",
    "import os\n",
    "\n",
    "sys.path.append(str(Path(os.getcwd()).parent))\n",
    "'''\n",
    "import openai\n",
    "\n",
    "openai.api_key = \"\"\n",
    "openai.api_base = \"https://neuroapi.host\"\n",
    "'''\n",
    "import g4f\n",
    "g4f.logging = False"
   ]
  },
  {
   "cell_type": "code",
   "execution_count": 2,
   "metadata": {},
   "outputs": [],
   "source": [
    "# Count tokens\n",
    "def num_tokens_from_messages(messages):\n",
    "    encoding= tiktoken.get_encoding(\"cl100k_base\")  #model to encoding mapping https://github.com/openai/tiktoken/blob/main/tiktoken/model.py\n",
    "    num_tokens = 0\n",
    "    for message in messages:\n",
    "        num_tokens += 4  # every message follows <im_start>{role/name}\\n{content}<im_end>\\n\n",
    "        for key, value in message.items():\n",
    "            num_tokens += len(encoding.encode(value))\n",
    "            if key == \"name\":  # if there's a name, the role is omitted\n",
    "                num_tokens += -1  # role is always required and always 1 token\n",
    "    num_tokens += 2  # every reply is primed with <im_start>assistant\n",
    "    return num_tokens"
   ]
  },
  {
   "cell_type": "code",
   "execution_count": 3,
   "metadata": {},
   "outputs": [],
   "source": [
    "# New session\n",
    "system_message = {\"role\": \"system\", \"content\": \"Ты очень полезный ИИ помочник.\"}\n",
    "max_response_tokens = 1024\n",
    "token_limit = 16000\n",
    "conversation = []\n",
    "conversation.append(system_message)"
   ]
  },
  {
   "cell_type": "code",
   "execution_count": 4,
   "metadata": {},
   "outputs": [
    {
     "name": "stdout",
     "output_type": "stream",
     "text": [
      "Здравствуйте! Чем я могу Вам помочь?\n"
     ]
    }
   ],
   "source": [
    "# User input\n",
    "stream = True\n",
    "while True:\n",
    "    user_input = input(\"\")\n",
    "    if user_input == \"exit\":\n",
    "        break\n",
    "    elif user_input == \"clear\":\n",
    "        conversation = []\n",
    "        conversation.append(system_message)\n",
    "        continue\n",
    "    elif user_input == \"regenerate\":\n",
    "        del conversation[-1]\n",
    "    else:\n",
    "        conversation.append({\"role\": \"user\", \"content\": user_input})\n",
    "    conv_history_tokens = num_tokens_from_messages(conversation)\n",
    "\n",
    "    while conv_history_tokens + max_response_tokens >= token_limit:\n",
    "        del conversation[1] \n",
    "        conv_history_tokens = num_tokens_from_messages(conversation)\n",
    "\n",
    "    while True:\n",
    "        try:\n",
    "            chat_completion = g4f.ChatCompletion.create(\n",
    "                model=\"gpt-3.5-turbo-16k-0613\",\n",
    "                messages=conversation,\n",
    "                stream=stream,\n",
    "            )\n",
    "\n",
    "            if not stream:\n",
    "                # not stream\n",
    "                if chat_completion == \"\":\n",
    "                    continue\n",
    "                print(chat_completion)\n",
    "                conversation.append({\"role\": \"system\", \"content\": chat_completion})\n",
    "            else:\n",
    "                # stream\n",
    "                collected_message = \"\"\n",
    "                for message in chat_completion:\n",
    "                    if message == \"Using NeuroGPT provider\" or \"Invalid\" in message:\n",
    "                        continue\n",
    "                    print(message, flush=True, end=\"\")\n",
    "                    collected_message += message\n",
    "                print()\n",
    "                if collected_message == \"\":\n",
    "                    continue\n",
    "                conversation.append({\"role\": \"assistant\", \"content\": collected_message})\n",
    "            break\n",
    "        except Exception as e:\n",
    "            print(e)\n"
   ]
  },
  {
   "cell_type": "code",
   "execution_count": 5,
   "metadata": {},
   "outputs": [
    {
     "name": "stdout",
     "output_type": "stream",
     "text": [
      "{'role': 'system', 'content': 'Ты очень полезный ИИ помочник.'}\n",
      "{'role': 'user', 'content': 'Привет'}\n",
      "{'role': 'assistant', 'content': 'Здравствуйте! Чем я могу Вам помочь?'}\n"
     ]
    }
   ],
   "source": [
    "# Print history\n",
    "for message in conversation:\n",
    "    print(message)"
   ]
  }
 ],
 "metadata": {
  "kernelspec": {
   "display_name": "venv",
   "language": "python",
   "name": "python3"
  },
  "language_info": {
   "codemirror_mode": {
    "name": "ipython",
    "version": 3
   },
   "file_extension": ".py",
   "mimetype": "text/x-python",
   "name": "python",
   "nbconvert_exporter": "python",
   "pygments_lexer": "ipython3",
   "version": "3.10.6"
  }
 },
 "nbformat": 4,
 "nbformat_minor": 2
}
