{
 "cells": [
  {
   "cell_type": "code",
   "execution_count": 3,
   "metadata": {},
   "outputs": [],
   "source": [
    "import g4f"
   ]
  },
  {
   "cell_type": "code",
   "execution_count": 8,
   "metadata": {},
   "outputs": [],
   "source": [
    "response = g4f.ChatCompletion.create(\n",
    "    model=g4f.models.gpt_35_turbo,\n",
    "    messages=[{\"role\": \"user\", \"content\": \"Расскажи о себе\"}],\n",
    ")"
   ]
  },
  {
   "cell_type": "code",
   "execution_count": 16,
   "metadata": {},
   "outputs": [
    {
     "name": "stdout",
     "output_type": "stream",
     "text": [
      "Я являюсь гиперэффективным и простым в использовании приложением для обработки текстовых данных. Я могу помочь вам в том, как делать аналитику текстовых данных, а также в том, как оценивать их качество. Я могу вам помочь в том, как отыскать изображения, которые могут быть использованы в вашей работе, а также в том, как предоставить вам статистические данные о своем использовании.\n",
      "As an AI assistant, I don't have personal data or experiences like humans do. However, I can provide you with information based on my training data and algorithms. For example, if you ask me about the latest news, I will search for relevant articles from reputable sources and summarize them for you. If you ask me about a specific topic, I will use natural language processing techniques to analyze text and generate insights that are relevant to your question. My goal is to help you find useful information quickly and easily.\n"
     ]
    },
    {
     "ename": "KeyboardInterrupt",
     "evalue": "",
     "output_type": "error",
     "traceback": [
      "\u001b[1;31m---------------------------------------------------------------------------\u001b[0m",
      "\u001b[1;31mKeyboardInterrupt\u001b[0m                         Traceback (most recent call last)",
      "\u001b[1;32mc:\\Users\\KorolOrol\\Desktop\\TUSUR\\repos\\OPD\\test.ipynb Ячейка 3\u001b[0m line \u001b[0;36m1\n\u001b[0;32m     <a href='vscode-notebook-cell:/c%3A/Users/KorolOrol/Desktop/TUSUR/repos/OPD/test.ipynb#W2sZmlsZQ%3D%3D?line=11'>12</a>\u001b[0m user_input \u001b[39m=\u001b[39m \u001b[39minput\u001b[39m()\n\u001b[0;32m     <a href='vscode-notebook-cell:/c%3A/Users/KorolOrol/Desktop/TUSUR/repos/OPD/test.ipynb#W2sZmlsZQ%3D%3D?line=12'>13</a>\u001b[0m conversation_history\u001b[39m.\u001b[39mappend({\u001b[39m\"\u001b[39m\u001b[39mrole\u001b[39m\u001b[39m\"\u001b[39m: \u001b[39m\"\u001b[39m\u001b[39muser\u001b[39m\u001b[39m\"\u001b[39m, \u001b[39m\"\u001b[39m\u001b[39mcontent\u001b[39m\u001b[39m\"\u001b[39m: user_input})\n\u001b[1;32m---> <a href='vscode-notebook-cell:/c%3A/Users/KorolOrol/Desktop/TUSUR/repos/OPD/test.ipynb#W2sZmlsZQ%3D%3D?line=13'>14</a>\u001b[0m response \u001b[39m=\u001b[39m g4f\u001b[39m.\u001b[39;49mChatCompletion\u001b[39m.\u001b[39;49mcreate(\n\u001b[0;32m     <a href='vscode-notebook-cell:/c%3A/Users/KorolOrol/Desktop/TUSUR/repos/OPD/test.ipynb#W2sZmlsZQ%3D%3D?line=14'>15</a>\u001b[0m     model\u001b[39m=\u001b[39;49mg4f\u001b[39m.\u001b[39;49mmodels\u001b[39m.\u001b[39;49mfalcon_40b,\n\u001b[0;32m     <a href='vscode-notebook-cell:/c%3A/Users/KorolOrol/Desktop/TUSUR/repos/OPD/test.ipynb#W2sZmlsZQ%3D%3D?line=15'>16</a>\u001b[0m     messages\u001b[39m=\u001b[39;49mconversation_history,\n\u001b[0;32m     <a href='vscode-notebook-cell:/c%3A/Users/KorolOrol/Desktop/TUSUR/repos/OPD/test.ipynb#W2sZmlsZQ%3D%3D?line=16'>17</a>\u001b[0m     \u001b[39m#stream=True,\u001b[39;49;00m\n\u001b[0;32m     <a href='vscode-notebook-cell:/c%3A/Users/KorolOrol/Desktop/TUSUR/repos/OPD/test.ipynb#W2sZmlsZQ%3D%3D?line=17'>18</a>\u001b[0m )\n\u001b[0;32m     <a href='vscode-notebook-cell:/c%3A/Users/KorolOrol/Desktop/TUSUR/repos/OPD/test.ipynb#W2sZmlsZQ%3D%3D?line=18'>19</a>\u001b[0m full_message \u001b[39m=\u001b[39m \u001b[39m'\u001b[39m\u001b[39m'\u001b[39m\n\u001b[0;32m     <a href='vscode-notebook-cell:/c%3A/Users/KorolOrol/Desktop/TUSUR/repos/OPD/test.ipynb#W2sZmlsZQ%3D%3D?line=19'>20</a>\u001b[0m \u001b[39mfor\u001b[39;00m message \u001b[39min\u001b[39;00m response:\n",
      "File \u001b[1;32mc:\\Users\\KorolOrol\\AppData\\Local\\Programs\\Python\\Python310\\lib\\site-packages\\g4f\\__init__.py:69\u001b[0m, in \u001b[0;36mChatCompletion.create\u001b[1;34m(model, messages, provider, stream, auth, **kwargs)\u001b[0m\n\u001b[0;32m     66\u001b[0m     kwargs[\u001b[39m'\u001b[39m\u001b[39mauth\u001b[39m\u001b[39m'\u001b[39m] \u001b[39m=\u001b[39m auth\n\u001b[0;32m     68\u001b[0m result \u001b[39m=\u001b[39m provider\u001b[39m.\u001b[39mcreate_completion(model\u001b[39m.\u001b[39mname, messages, stream, \u001b[39m*\u001b[39m\u001b[39m*\u001b[39mkwargs)\n\u001b[1;32m---> 69\u001b[0m \u001b[39mreturn\u001b[39;00m result \u001b[39mif\u001b[39;00m stream \u001b[39melse\u001b[39;00m \u001b[39m'\u001b[39;49m\u001b[39m'\u001b[39;49m\u001b[39m.\u001b[39;49mjoin(result)\n",
      "File \u001b[1;32mc:\\Users\\KorolOrol\\AppData\\Local\\Programs\\Python\\Python310\\lib\\site-packages\\g4f\\Provider\\base_provider.py:109\u001b[0m, in \u001b[0;36mAsyncGeneratorProvider.create_completion\u001b[1;34m(cls, model, messages, stream, **kwargs)\u001b[0m\n\u001b[0;32m    107\u001b[0m \u001b[39mwhile\u001b[39;00m \u001b[39mTrue\u001b[39;00m:\n\u001b[0;32m    108\u001b[0m     \u001b[39mtry\u001b[39;00m:\n\u001b[1;32m--> 109\u001b[0m         \u001b[39myield\u001b[39;00m loop\u001b[39m.\u001b[39;49mrun_until_complete(gen\u001b[39m.\u001b[39;49m\u001b[39m__anext__\u001b[39;49m())\n\u001b[0;32m    110\u001b[0m     \u001b[39mexcept\u001b[39;00m \u001b[39mStopAsyncIteration\u001b[39;00m:\n\u001b[0;32m    111\u001b[0m         \u001b[39mbreak\u001b[39;00m\n",
      "File \u001b[1;32m~\\AppData\\Roaming\\Python\\Python310\\site-packages\\nest_asyncio.py:93\u001b[0m, in \u001b[0;36m_patch_loop.<locals>.run_until_complete\u001b[1;34m(self, future)\u001b[0m\n\u001b[0;32m     91\u001b[0m     f\u001b[39m.\u001b[39m_log_destroy_pending \u001b[39m=\u001b[39m \u001b[39mFalse\u001b[39;00m\n\u001b[0;32m     92\u001b[0m \u001b[39mwhile\u001b[39;00m \u001b[39mnot\u001b[39;00m f\u001b[39m.\u001b[39mdone():\n\u001b[1;32m---> 93\u001b[0m     \u001b[39mself\u001b[39;49m\u001b[39m.\u001b[39;49m_run_once()\n\u001b[0;32m     94\u001b[0m     \u001b[39mif\u001b[39;00m \u001b[39mself\u001b[39m\u001b[39m.\u001b[39m_stopping:\n\u001b[0;32m     95\u001b[0m         \u001b[39mbreak\u001b[39;00m\n",
      "File \u001b[1;32m~\\AppData\\Roaming\\Python\\Python310\\site-packages\\nest_asyncio.py:116\u001b[0m, in \u001b[0;36m_patch_loop.<locals>._run_once\u001b[1;34m(self)\u001b[0m\n\u001b[0;32m    109\u001b[0m     heappop(scheduled)\n\u001b[0;32m    111\u001b[0m timeout \u001b[39m=\u001b[39m (\n\u001b[0;32m    112\u001b[0m     \u001b[39m0\u001b[39m \u001b[39mif\u001b[39;00m ready \u001b[39mor\u001b[39;00m \u001b[39mself\u001b[39m\u001b[39m.\u001b[39m_stopping\n\u001b[0;32m    113\u001b[0m     \u001b[39melse\u001b[39;00m \u001b[39mmin\u001b[39m(\u001b[39mmax\u001b[39m(\n\u001b[0;32m    114\u001b[0m         scheduled[\u001b[39m0\u001b[39m]\u001b[39m.\u001b[39m_when \u001b[39m-\u001b[39m \u001b[39mself\u001b[39m\u001b[39m.\u001b[39mtime(), \u001b[39m0\u001b[39m), \u001b[39m86400\u001b[39m) \u001b[39mif\u001b[39;00m scheduled\n\u001b[0;32m    115\u001b[0m     \u001b[39melse\u001b[39;00m \u001b[39mNone\u001b[39;00m)\n\u001b[1;32m--> 116\u001b[0m event_list \u001b[39m=\u001b[39m \u001b[39mself\u001b[39;49m\u001b[39m.\u001b[39;49m_selector\u001b[39m.\u001b[39;49mselect(timeout)\n\u001b[0;32m    117\u001b[0m \u001b[39mself\u001b[39m\u001b[39m.\u001b[39m_process_events(event_list)\n\u001b[0;32m    119\u001b[0m end_time \u001b[39m=\u001b[39m \u001b[39mself\u001b[39m\u001b[39m.\u001b[39mtime() \u001b[39m+\u001b[39m \u001b[39mself\u001b[39m\u001b[39m.\u001b[39m_clock_resolution\n",
      "File \u001b[1;32mc:\\Users\\KorolOrol\\AppData\\Local\\Programs\\Python\\Python310\\lib\\selectors.py:324\u001b[0m, in \u001b[0;36mSelectSelector.select\u001b[1;34m(self, timeout)\u001b[0m\n\u001b[0;32m    322\u001b[0m ready \u001b[39m=\u001b[39m []\n\u001b[0;32m    323\u001b[0m \u001b[39mtry\u001b[39;00m:\n\u001b[1;32m--> 324\u001b[0m     r, w, _ \u001b[39m=\u001b[39m \u001b[39mself\u001b[39;49m\u001b[39m.\u001b[39;49m_select(\u001b[39mself\u001b[39;49m\u001b[39m.\u001b[39;49m_readers, \u001b[39mself\u001b[39;49m\u001b[39m.\u001b[39;49m_writers, [], timeout)\n\u001b[0;32m    325\u001b[0m \u001b[39mexcept\u001b[39;00m \u001b[39mInterruptedError\u001b[39;00m:\n\u001b[0;32m    326\u001b[0m     \u001b[39mreturn\u001b[39;00m ready\n",
      "File \u001b[1;32mc:\\Users\\KorolOrol\\AppData\\Local\\Programs\\Python\\Python310\\lib\\selectors.py:315\u001b[0m, in \u001b[0;36mSelectSelector._select\u001b[1;34m(self, r, w, _, timeout)\u001b[0m\n\u001b[0;32m    314\u001b[0m \u001b[39mdef\u001b[39;00m \u001b[39m_select\u001b[39m(\u001b[39mself\u001b[39m, r, w, _, timeout\u001b[39m=\u001b[39m\u001b[39mNone\u001b[39;00m):\n\u001b[1;32m--> 315\u001b[0m     r, w, x \u001b[39m=\u001b[39m select\u001b[39m.\u001b[39;49mselect(r, w, w, timeout)\n\u001b[0;32m    316\u001b[0m     \u001b[39mreturn\u001b[39;00m r, w \u001b[39m+\u001b[39m x, []\n",
      "\u001b[1;31mKeyboardInterrupt\u001b[0m: "
     ]
    }
   ],
   "source": [
    "conversation_history = []\n",
    "while True:\n",
    "    user_input = input()\n",
    "    conversation_history.append({\"role\": \"user\", \"content\": user_input})\n",
    "    response = g4f.ChatCompletion.create(\n",
    "        model=g4f.models.falcon_40b,\n",
    "        messages=conversation_history,\n",
    "        stream=True,\n",
    "    )\n",
    "    full_message = ''\n",
    "    for message in response:\n",
    "        print(message, flush=True ,end='')\n",
    "        full_message += message\n",
    "    print()\n",
    "    conversation_history.append({\"role\": \"assistant\", \"content\": full_message})\n"
   ]
  }
 ],
 "metadata": {
  "kernelspec": {
   "display_name": "Python 3",
   "language": "python",
   "name": "python3"
  },
  "language_info": {
   "codemirror_mode": {
    "name": "ipython",
    "version": 3
   },
   "file_extension": ".py",
   "mimetype": "text/x-python",
   "name": "python",
   "nbconvert_exporter": "python",
   "pygments_lexer": "ipython3",
   "version": "3.10.6"
  },
  "orig_nbformat": 4
 },
 "nbformat": 4,
 "nbformat_minor": 2
}
