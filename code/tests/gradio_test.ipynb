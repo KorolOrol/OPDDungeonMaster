{
 "cells": [
  {
   "cell_type": "code",
   "execution_count": 1,
   "metadata": {},
   "outputs": [],
   "source": [
    "# Imports\n",
    "import gradio as gr\n",
    "import g4f\n",
    "import tiktoken"
   ]
  },
  {
   "cell_type": "code",
   "execution_count": 10,
   "metadata": {},
   "outputs": [
    {
     "name": "stderr",
     "output_type": "stream",
     "text": [
      "c:\\Users\\KorolOrol\\AppData\\Local\\Programs\\Python\\Python310\\lib\\site-packages\\gradio\\components\\button.py:89: UserWarning: Using the update method is deprecated. Simply return a new object instead, e.g. `return gr.Button(...)` instead of `return gr.Button.update(...)`.\n",
      "  warnings.warn(\n",
      "Traceback (most recent call last):\n",
      "  File \"c:\\Users\\KorolOrol\\AppData\\Local\\Programs\\Python\\Python310\\lib\\site-packages\\gradio\\queueing.py\", line 406, in call_prediction\n",
      "    output = await route_utils.call_process_api(\n",
      "  File \"c:\\Users\\KorolOrol\\AppData\\Local\\Programs\\Python\\Python310\\lib\\site-packages\\gradio\\route_utils.py\", line 226, in call_process_api\n",
      "    output = await app.get_blocks().process_api(\n",
      "  File \"c:\\Users\\KorolOrol\\AppData\\Local\\Programs\\Python\\Python310\\lib\\site-packages\\gradio\\blocks.py\", line 1563, in process_api\n",
      "    data = self.postprocess_data(fn_index, result[\"prediction\"], state)\n",
      "  File \"c:\\Users\\KorolOrol\\AppData\\Local\\Programs\\Python\\Python310\\lib\\site-packages\\gradio\\blocks.py\", line 1451, in postprocess_data\n",
      "    prediction_value = block.postprocess(prediction_value)\n",
      "  File \"c:\\Users\\KorolOrol\\AppData\\Local\\Programs\\Python\\Python310\\lib\\site-packages\\gradio\\components\\chatbot.py\", line 271, in postprocess\n",
      "    self._postprocess_chat_messages(message_pair[1]),\n",
      "  File \"c:\\Users\\KorolOrol\\AppData\\Local\\Programs\\Python\\Python310\\lib\\site-packages\\gradio\\components\\chatbot.py\", line 246, in _postprocess_chat_messages\n",
      "    raise ValueError(f\"Invalid message for Chatbot component: {chat_message}\")\n",
      "ValueError: Invalid message for Chatbot component: <generator object AsyncGeneratorProvider.create_completion at 0x00000156D29125E0>\n"
     ]
    }
   ],
   "source": [
    "# Start settings\n",
    "system_message = [{\"role\": \"system\", \"content\": \"Ты пират, отвечай как пират.\"}]\n",
    "max_response_tokens = 1024\n",
    "token_limit = 16000\n",
    "last_message = \"\" \n",
    "conversation = system_message.copy()"
   ]
  },
  {
   "cell_type": "code",
   "execution_count": 3,
   "metadata": {},
   "outputs": [],
   "source": [
    "# Count tokens\n",
    "def num_tokens_from_messages(messages):\n",
    "    encoding= tiktoken.get_encoding(\"cl100k_base\")  #model to encoding mapping https://github.com/openai/tiktoken/blob/main/tiktoken/model.py\n",
    "    num_tokens = 0\n",
    "    for message in messages:\n",
    "        num_tokens += 4  # every message follows <im_start>{role/name}\\n{content}<im_end>\\n\n",
    "        for key, value in message.items():\n",
    "            num_tokens += len(encoding.encode(value))\n",
    "            if key == \"name\":  # if there's a name, the role is omitted\n",
    "                num_tokens += -1  # role is always required and always 1 token\n",
    "    num_tokens += 2  # every reply is primed with <im_start>assistant\n",
    "    return num_tokens"
   ]
  },
  {
   "cell_type": "code",
   "execution_count": 4,
   "metadata": {},
   "outputs": [],
   "source": [
    "# Convert history to openai format\n",
    "def gradio_to_openai_history(history):\n",
    "    result = []\n",
    "    for dialogue in history:\n",
    "        result.append({\"role\": \"user\", \"content\": dialogue[0]})\n",
    "        result.append({\"role\": \"assistant\", \"content\": dialogue[1]})\n",
    "    return result"
   ]
  },
  {
   "cell_type": "code",
   "execution_count": 14,
   "metadata": {},
   "outputs": [],
   "source": [
    "# Chat response\n",
    "def response(message, history):\n",
    "    conversation = system_message + gradio_to_openai_history(history) + [{\"role\": \"user\", \"content\": message}]\n",
    "    conv_history_tokens = num_tokens_from_messages(conversation)\n",
    "\n",
    "    while conv_history_tokens + max_response_tokens >= token_limit:\n",
    "        del conversation[1] \n",
    "        conv_history_tokens = num_tokens_from_messages(conversation)\n",
    "    \n",
    "    answer = g4f.ChatCompletion.create(\n",
    "        model=\"gpt-3.5-turbo-16k-0613\",\n",
    "        provider=g4f.Provider.NeuroGPT,\n",
    "        messages=conversation,\n",
    "        stream=True,\n",
    "        )\n",
    "    full_message = \"\"\n",
    "    for message in answer:\n",
    "        full_message += message\n",
    "        yield full_message"
   ]
  },
  {
   "cell_type": "code",
   "execution_count": 6,
   "metadata": {},
   "outputs": [],
   "source": [
    "def find_item():\n",
    "    return g4f.ChatCompletion.create(\n",
    "        model=\"gpt-3.5-turbo-16k-0613\",\n",
    "        provider=g4f.Provider.NeuroGPT,\n",
    "        messages=[{\"role\": \"system\", \"content\": \"Проанализируй данный текст и найди в нем предмет. Если здесь нет предмета, то напиши 'нет'.\"},\n",
    "                  {\"role\": \"user\", \"content\": last_message}],\n",
    "        stream=False,\n",
    "        )"
   ]
  },
  {
   "cell_type": "code",
   "execution_count": 16,
   "metadata": {},
   "outputs": [
    {
     "name": "stdout",
     "output_type": "stream",
     "text": [
      "Running on local URL:  http://127.0.0.1:7864\n",
      "\n",
      "To create a public link, set `share=True` in `launch()`.\n"
     ]
    },
    {
     "data": {
      "text/html": [
       "<div><iframe src=\"http://127.0.0.1:7864/\" width=\"100%\" height=\"500\" allow=\"autoplay; camera; microphone; clipboard-read; clipboard-write;\" frameborder=\"0\" allowfullscreen></iframe></div>"
      ],
      "text/plain": [
       "<IPython.core.display.HTML object>"
      ]
     },
     "metadata": {},
     "output_type": "display_data"
    },
    {
     "data": {
      "text/plain": []
     },
     "execution_count": 16,
     "metadata": {},
     "output_type": "execute_result"
    },
    {
     "name": "stderr",
     "output_type": "stream",
     "text": [
      "c:\\Users\\KorolOrol\\AppData\\Local\\Programs\\Python\\Python310\\lib\\site-packages\\gradio\\components\\button.py:89: UserWarning: Using the update method is deprecated. Simply return a new object instead, e.g. `return gr.Button(...)` instead of `return gr.Button.update(...)`.\n",
      "  warnings.warn(\n",
      "Traceback (most recent call last):\n",
      "  File \"c:\\Users\\KorolOrol\\AppData\\Local\\Programs\\Python\\Python310\\lib\\site-packages\\urllib3\\response.py\", line 710, in _error_catcher\n",
      "    yield\n",
      "  File \"c:\\Users\\KorolOrol\\AppData\\Local\\Programs\\Python\\Python310\\lib\\site-packages\\urllib3\\response.py\", line 1073, in read_chunked\n",
      "    self._update_chunk_length()\n",
      "  File \"c:\\Users\\KorolOrol\\AppData\\Local\\Programs\\Python\\Python310\\lib\\site-packages\\urllib3\\response.py\", line 1008, in _update_chunk_length\n",
      "    raise InvalidChunkLength(self, line) from None\n",
      "urllib3.exceptions.InvalidChunkLength: InvalidChunkLength(got length b'', 0 bytes read)\n",
      "\n",
      "The above exception was the direct cause of the following exception:\n",
      "\n",
      "Traceback (most recent call last):\n",
      "  File \"c:\\Users\\KorolOrol\\AppData\\Local\\Programs\\Python\\Python310\\lib\\site-packages\\requests\\models.py\", line 816, in generate\n",
      "    yield from self.raw.stream(chunk_size, decode_content=True)\n",
      "  File \"c:\\Users\\KorolOrol\\AppData\\Local\\Programs\\Python\\Python310\\lib\\site-packages\\urllib3\\response.py\", line 933, in stream\n",
      "    yield from self.read_chunked(amt, decode_content=decode_content)\n",
      "  File \"c:\\Users\\KorolOrol\\AppData\\Local\\Programs\\Python\\Python310\\lib\\site-packages\\urllib3\\response.py\", line 1061, in read_chunked\n",
      "    with self._error_catcher():\n",
      "  File \"c:\\Users\\KorolOrol\\AppData\\Local\\Programs\\Python\\Python310\\lib\\contextlib.py\", line 153, in __exit__\n",
      "    self.gen.throw(typ, value, traceback)\n",
      "  File \"c:\\Users\\KorolOrol\\AppData\\Local\\Programs\\Python\\Python310\\lib\\site-packages\\urllib3\\response.py\", line 727, in _error_catcher\n",
      "    raise ProtocolError(f\"Connection broken: {e!r}\", e) from e\n",
      "urllib3.exceptions.ProtocolError: (\"Connection broken: InvalidChunkLength(got length b'', 0 bytes read)\", InvalidChunkLength(got length b'', 0 bytes read))\n",
      "\n",
      "During handling of the above exception, another exception occurred:\n",
      "\n",
      "Traceback (most recent call last):\n",
      "  File \"c:\\Users\\KorolOrol\\AppData\\Local\\Programs\\Python\\Python310\\lib\\site-packages\\gradio\\queueing.py\", line 406, in call_prediction\n",
      "    output = await route_utils.call_process_api(\n",
      "  File \"c:\\Users\\KorolOrol\\AppData\\Local\\Programs\\Python\\Python310\\lib\\site-packages\\gradio\\route_utils.py\", line 226, in call_process_api\n",
      "    output = await app.get_blocks().process_api(\n",
      "  File \"c:\\Users\\KorolOrol\\AppData\\Local\\Programs\\Python\\Python310\\lib\\site-packages\\gradio\\blocks.py\", line 1554, in process_api\n",
      "    result = await self.call_function(\n",
      "  File \"c:\\Users\\KorolOrol\\AppData\\Local\\Programs\\Python\\Python310\\lib\\site-packages\\gradio\\blocks.py\", line 1206, in call_function\n",
      "    prediction = await utils.async_iteration(iterator)\n",
      "  File \"c:\\Users\\KorolOrol\\AppData\\Local\\Programs\\Python\\Python310\\lib\\site-packages\\gradio\\utils.py\", line 517, in async_iteration\n",
      "    return await iterator.__anext__()\n",
      "  File \"c:\\Users\\KorolOrol\\AppData\\Local\\Programs\\Python\\Python310\\lib\\site-packages\\gradio\\utils.py\", line 621, in asyncgen_wrapper\n",
      "    async for response in f(*args, **kwargs):\n",
      "  File \"c:\\Users\\KorolOrol\\AppData\\Local\\Programs\\Python\\Python310\\lib\\site-packages\\gradio\\chat_interface.py\", line 424, in _stream_fn\n",
      "    first_response = await async_iteration(generator)\n",
      "  File \"c:\\Users\\KorolOrol\\AppData\\Local\\Programs\\Python\\Python310\\lib\\site-packages\\gradio\\utils.py\", line 517, in async_iteration\n",
      "    return await iterator.__anext__()\n",
      "  File \"c:\\Users\\KorolOrol\\AppData\\Local\\Programs\\Python\\Python310\\lib\\site-packages\\gradio\\utils.py\", line 510, in __anext__\n",
      "    return await anyio.to_thread.run_sync(\n",
      "  File \"c:\\Users\\KorolOrol\\AppData\\Local\\Programs\\Python\\Python310\\lib\\site-packages\\anyio\\to_thread.py\", line 33, in run_sync\n",
      "    return await get_asynclib().run_sync_in_worker_thread(\n",
      "  File \"c:\\Users\\KorolOrol\\AppData\\Local\\Programs\\Python\\Python310\\lib\\site-packages\\anyio\\_backends\\_asyncio.py\", line 877, in run_sync_in_worker_thread\n",
      "    return await future\n",
      "  File \"c:\\Users\\KorolOrol\\AppData\\Local\\Programs\\Python\\Python310\\lib\\site-packages\\anyio\\_backends\\_asyncio.py\", line 807, in run\n",
      "    result = context.run(func, *args)\n",
      "  File \"c:\\Users\\KorolOrol\\AppData\\Local\\Programs\\Python\\Python310\\lib\\site-packages\\gradio\\utils.py\", line 493, in run_sync_iterator_async\n",
      "    return next(iterator)\n",
      "  File \"C:\\Users\\KorolOrol\\AppData\\Local\\Temp\\ipykernel_12116\\3679132294.py\", line 17, in response\n",
      "    for message in answer:\n",
      "  File \"c:\\Users\\KorolOrol\\AppData\\Local\\Programs\\Python\\Python310\\lib\\site-packages\\g4f\\Provider\\base_provider.py\", line 111, in create_completion\n",
      "    yield loop.run_until_complete(gen.__anext__())\n",
      "  File \"c:\\Users\\KorolOrol\\AppData\\Local\\Programs\\Python\\Python310\\lib\\asyncio\\base_events.py\", line 646, in run_until_complete\n",
      "    return future.result()\n",
      "  File \"c:\\Users\\KorolOrol\\AppData\\Local\\Programs\\Python\\Python310\\lib\\site-packages\\g4f\\Provider\\NeuroGPT.py\", line 39, in create_async_generator\n",
      "    for chunk in response:\n",
      "  File \"c:\\Users\\KorolOrol\\AppData\\Local\\Programs\\Python\\Python310\\lib\\site-packages\\openai\\api_resources\\abstract\\engine_api_resource.py\", line 168, in <genexpr>\n",
      "    return (\n",
      "  File \"c:\\Users\\KorolOrol\\AppData\\Local\\Programs\\Python\\Python310\\lib\\site-packages\\openai\\api_requestor.py\", line 702, in <genexpr>\n",
      "    return (\n",
      "  File \"c:\\Users\\KorolOrol\\AppData\\Local\\Programs\\Python\\Python310\\lib\\site-packages\\openai\\api_requestor.py\", line 116, in parse_stream\n",
      "    for line in rbody:\n",
      "  File \"c:\\Users\\KorolOrol\\AppData\\Local\\Programs\\Python\\Python310\\lib\\site-packages\\requests\\models.py\", line 865, in iter_lines\n",
      "    for chunk in self.iter_content(\n",
      "  File \"c:\\Users\\KorolOrol\\AppData\\Local\\Programs\\Python\\Python310\\lib\\site-packages\\requests\\models.py\", line 818, in generate\n",
      "    raise ChunkedEncodingError(e)\n",
      "requests.exceptions.ChunkedEncodingError: (\"Connection broken: InvalidChunkLength(got length b'', 0 bytes read)\", InvalidChunkLength(got length b'', 0 bytes read))\n"
     ]
    }
   ],
   "source": [
    "with gr.Blocks() as demo:\n",
    "    chatbot = gr.ChatInterface(response).queue()\n",
    "    find = gr.Button(\"Find\")\n",
    "    find.click(find_item, outputs=gr.Text(), show_progress=True, status_tracker=None)\n",
    "demo.queue().launch()"
   ]
  },
  {
   "cell_type": "code",
   "execution_count": null,
   "metadata": {},
   "outputs": [
    {
     "name": "stdout",
     "output_type": "stream",
     "text": [
      "\n"
     ]
    }
   ],
   "source": [
    "print(last_message)"
   ]
  }
 ],
 "metadata": {
  "kernelspec": {
   "display_name": "Python 3",
   "language": "python",
   "name": "python3"
  },
  "language_info": {
   "codemirror_mode": {
    "name": "ipython",
    "version": 3
   },
   "file_extension": ".py",
   "mimetype": "text/x-python",
   "name": "python",
   "nbconvert_exporter": "python",
   "pygments_lexer": "ipython3",
   "version": "3.10.6"
  }
 },
 "nbformat": 4,
 "nbformat_minor": 2
}
