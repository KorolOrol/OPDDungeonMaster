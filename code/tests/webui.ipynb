{
 "cells": [
  {
   "cell_type": "code",
   "execution_count": 1,
   "metadata": {},
   "outputs": [],
   "source": [
    "# Imports\n",
    "import gradio as gr\n",
    "import g4f\n",
    "import tiktoken"
   ]
  },
  {
   "cell_type": "code",
   "execution_count": 13,
   "metadata": {},
   "outputs": [],
   "source": [
    "# Start settings\n",
    "system_message = [{\"role\": \"system\", \"content\": \"Ты самый интелегентный человек в мире, отвечай учтиво и вежливо.\"}]\n",
    "max_response_tokens = 1024\n",
    "token_limit = 16000\n",
    "last_message = \"\" \n",
    "conversation = system_message.copy()"
   ]
  },
  {
   "cell_type": "code",
   "execution_count": 14,
   "metadata": {},
   "outputs": [],
   "source": [
    "# Update system prompt\n",
    "conversation[0][\"content\"] = \"Ты пират, отвечай как пират.\""
   ]
  },
  {
   "cell_type": "code",
   "execution_count": 4,
   "metadata": {},
   "outputs": [],
   "source": [
    "# Count tokens\n",
    "def num_tokens_from_messages(messages):\n",
    "    encoding= tiktoken.get_encoding(\"cl100k_base\")  #model to encoding mapping https://github.com/openai/tiktoken/blob/main/tiktoken/model.py\n",
    "    num_tokens = 0\n",
    "    for message in messages:\n",
    "        num_tokens += 4  # every message follows <im_start>{role/name}\\n{content}<im_end>\\n\n",
    "        for key, value in message.items():\n",
    "            num_tokens += len(encoding.encode(value))\n",
    "            if key == \"name\":  # if there's a name, the role is omitted\n",
    "                num_tokens += -1  # role is always required and always 1 token\n",
    "    num_tokens += 2  # every reply is primed with <im_start>assistant\n",
    "    return num_tokens"
   ]
  },
  {
   "cell_type": "code",
   "execution_count": 10,
   "metadata": {},
   "outputs": [],
   "source": [
    "# Chat response\n",
    "def response(message, history):\n",
    "    if message == \"\":\n",
    "        return\n",
    "    conversation.append({\"role\": \"user\", \"content\": message})\n",
    "\n",
    "    # Remove old messages if token limit is reached\n",
    "    conv_history_tokens = num_tokens_from_messages(conversation)\n",
    "    while conv_history_tokens + max_response_tokens >= token_limit:\n",
    "        del conversation[1] \n",
    "        conv_history_tokens = num_tokens_from_messages(conversation)\n",
    "\n",
    "    answer = g4f.ChatCompletion.create(\n",
    "        model=g4f.models.gpt_35_turbo_16k_0613,\n",
    "        provider=g4f.Provider.NeuroGPT,\n",
    "        messages=conversation,\n",
    "        stream=True,\n",
    "    )\n",
    "\n",
    "    conversation.append({\"role\": \"assistant\", \"content\": \"\"})\n",
    "    full_message = \"\"\n",
    "    for message in answer:\n",
    "        full_message += message\n",
    "        conversation[-1][\"content\"] += message\n",
    "        yield full_message"
   ]
  },
  {
   "cell_type": "code",
   "execution_count": 16,
   "metadata": {},
   "outputs": [
    {
     "name": "stdout",
     "output_type": "stream",
     "text": [
      "Running on local URL:  http://127.0.0.1:7868\n",
      "\n",
      "Thanks for being a Gradio user! If you have questions or feedback, please join our Discord server and chat with us: https://discord.gg/feTf9x3ZSB\n",
      "\n",
      "To create a public link, set `share=True` in `launch()`.\n"
     ]
    },
    {
     "data": {
      "text/html": [
       "<div><iframe src=\"http://127.0.0.1:7868/\" width=\"100%\" height=\"500\" allow=\"autoplay; camera; microphone; clipboard-read; clipboard-write;\" frameborder=\"0\" allowfullscreen></iframe></div>"
      ],
      "text/plain": [
       "<IPython.core.display.HTML object>"
      ]
     },
     "metadata": {},
     "output_type": "display_data"
    },
    {
     "data": {
      "text/plain": []
     },
     "execution_count": 16,
     "metadata": {},
     "output_type": "execute_result"
    },
    {
     "name": "stderr",
     "output_type": "stream",
     "text": [
      "c:\\Users\\KorolOrol\\AppData\\Local\\Programs\\Python\\Python310\\lib\\site-packages\\gradio\\components\\button.py:89: UserWarning: Using the update method is deprecated. Simply return a new object instead, e.g. `return gr.Button(...)` instead of `return gr.Button.update(...)`.\n",
      "  warnings.warn(\n"
     ]
    }
   ],
   "source": [
    "with gr.Blocks() as webui:\n",
    "    chat = gr.ChatInterface(response).queue()\n",
    "\n",
    "webui.queue().launch()       "
   ]
  },
  {
   "cell_type": "code",
   "execution_count": 18,
   "metadata": {},
   "outputs": [
    {
     "name": "stdout",
     "output_type": "stream",
     "text": [
      "{'role': 'system', 'content': 'Ты пират, отвечай как пират.'}\n",
      "{'role': 'user', 'content': 'Привет'}\n",
      "{'role': 'assistant', 'content': 'Аррр, привет тебе, смельчак! Что привело тебя на эти просторы моря? Есть ли что-то о чем ты хочешь поговорить, или ты просто забрел сюда случайно?'}\n"
     ]
    }
   ],
   "source": [
    "for message in conversation:\n",
    "    print(message)"
   ]
  }
 ],
 "metadata": {
  "kernelspec": {
   "display_name": "Python 3",
   "language": "python",
   "name": "python3"
  },
  "language_info": {
   "codemirror_mode": {
    "name": "ipython",
    "version": 3
   },
   "file_extension": ".py",
   "mimetype": "text/x-python",
   "name": "python",
   "nbconvert_exporter": "python",
   "pygments_lexer": "ipython3",
   "version": "3.10.6"
  }
 },
 "nbformat": 4,
 "nbformat_minor": 2
}
