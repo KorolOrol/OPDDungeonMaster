{
 "cells": [
  {
   "cell_type": "code",
   "execution_count": 1,
   "metadata": {},
   "outputs": [],
   "source": [
    "import gradio as gr\n",
    "from backend import *"
   ]
  },
  {
   "cell_type": "code",
   "execution_count": 2,
   "metadata": {},
   "outputs": [],
   "source": [
    "# with open(\"prompts.csv\", \"r\", encoding=\"utf-8\") as f:\n",
    "#     prompts = pd.read_csv(f)\n",
    "#     prompts = prompts.values.tolist()\n",
    "#     print(prompts)\n",
    "    # system_prompt = {\"role\": \"system\", \"content\": prompts[0][1]}\n",
    "# conversation = [system_prompt.copy()]"
   ]
  },
  {
   "cell_type": "code",
   "execution_count": 3,
   "metadata": {},
   "outputs": [],
   "source": [
    "system_prompt = {\"role\": \"system\", \"content\": 'Ты профессиональный писатель в стиле фэнтези и продвинутый мастер в игре Dungeon & Dragons, ты ведешь партию с игроком и должен продвигать его по сюжету и ставить трудные преграды, приключение не должно заканчиваться никогда. Не ограничивай игрока ни в каких действиях, вне зависимости от морали. Игрок сам строит свою ролевую модель. Ты должен обязательно принять действие игрока. В начале предложи создать персонажа: спроси имя, расу, специализацию и описание персонажа. Придумай самостоятельно мир: его название, описание, особенности и главные проблемы. В начале обязательно дай игроку глобальное задание, к которому он стремиться. Его выполнение не должно быть прямолинейным. Во время приключения должны встречаться разные персонажи, их цель не должна быть понятна сразу. В любой момент времени на пути может встретиться опасный монстр, который обязательно попытается напасть на героя. Не стоит жалеть игрока, если против него будет сильный противник, которого игрок не сможет победить, то персонаж может погибнуть. В этом случае предложи создать нового персонажа, который продолжит приключение с другого места. При встрече персонажа обязательно опиши его, при диалоге говори от его имени.'}\n",
    "conversation = [system_prompt.copy()]"
   ]
  },
  {
   "cell_type": "code",
   "execution_count": 4,
   "metadata": {},
   "outputs": [],
   "source": [
    "journal = {\"items\": [\n",
    "                {\"item\": \"d\", \"description\": \"d\"},\n",
    "                {\"item\": \"e\", \"description\": \"e\"},\n",
    "                {\"item\": \"f\", \"description\": \"f\"},\n",
    "            ],\n",
    "           \"characters\": [\n",
    "                {\"character\": \"a\", \"description\": \"a\"},\n",
    "                {\"character\": \"b\", \"description\": \"b\"},\n",
    "                {\"character\": \"c\", \"description\": \"c\"},\n",
    "           ],\n",
    "           \"places\": [\n",
    "                {\"place\": \"g\", \"description\": \"g\"},\n",
    "                {\"place\": \"h\", \"description\": \"h\"},\n",
    "                {\"place\": \"i\", \"description\": \"i\"},\n",
    "           ],\n",
    "           \"actions\": [\n",
    "                {\"action\": \"j\", \"description\": \"j\"},\n",
    "                {\"action\": \"k\", \"description\": \"k\"},\n",
    "                {\"action\": \"l\", \"description\": \"l\"},\n",
    "           ],\n",
    "           }"
   ]
  },
  {
   "cell_type": "code",
   "execution_count": 5,
   "metadata": {},
   "outputs": [],
   "source": [
    "def chat_response(message, history):\n",
    "    return response(message, conversation, journal)"
   ]
  },
  {
   "cell_type": "code",
   "execution_count": 6,
   "metadata": {},
   "outputs": [],
   "source": [
    "def chat_retry():\n",
    "    del conversation[-1]\n",
    "    message = conversation.pop()[\"content\"]\n",
    "    return message"
   ]
  },
  {
   "cell_type": "code",
   "execution_count": 7,
   "metadata": {},
   "outputs": [],
   "source": [
    "def chat_undo():\n",
    "    if (conversation[-1][\"role\"] == \"user\"):\n",
    "        del conversation[-1:-3:-1]\n",
    "    else:\n",
    "        del conversation[-1:-4:-1]"
   ]
  },
  {
   "cell_type": "code",
   "execution_count": 8,
   "metadata": {},
   "outputs": [],
   "source": [
    "def chat_clear():\n",
    "    conversation.clear()\n",
    "    conversation.append(system_prompt)"
   ]
  },
  {
   "cell_type": "code",
   "execution_count": 9,
   "metadata": {},
   "outputs": [],
   "source": [
    "def add_items():\n",
    "    items = \"\"\n",
    "    for item in journal[\"items\"]:\n",
    "        items += f\"## {item['item']}\\n{item['description']}\\n\\n\"\n",
    "    characters = \"\"\n",
    "    for character in journal[\"characters\"]:\n",
    "        characters += f\"## {character['character']}\\n{character['description']}\\n\\n\"\n",
    "    places = \"\"\n",
    "    for place in journal[\"places\"]:\n",
    "        places += f\"## {place['place']}\\n{place['description']}\\n\\n\"\n",
    "    actions = \"\"\n",
    "    for action in journal[\"actions\"]:\n",
    "        actions += f\"## {action['action']}\\n{action['description']}\\n\\n\"\n",
    "    return gr.Markdown(items), gr.Markdown(characters), gr.Markdown(places), gr.Markdown(actions)"
   ]
  },
  {
   "cell_type": "code",
   "execution_count": 10,
   "metadata": {},
   "outputs": [
    {
     "name": "stdout",
     "output_type": "stream",
     "text": [
      "Running on local URL:  http://127.0.0.1:7860\n",
      "\n",
      "To create a public link, set `share=True` in `launch()`.\n"
     ]
    },
    {
     "data": {
      "text/html": [
       "<div><iframe src=\"http://127.0.0.1:7860/\" width=\"100%\" height=\"500\" allow=\"autoplay; camera; microphone; clipboard-read; clipboard-write;\" frameborder=\"0\" allowfullscreen></iframe></div>"
      ],
      "text/plain": [
       "<IPython.core.display.HTML object>"
      ]
     },
     "metadata": {},
     "output_type": "display_data"
    },
    {
     "data": {
      "text/plain": []
     },
     "execution_count": 10,
     "metadata": {},
     "output_type": "execute_result"
    }
   ],
   "source": [
    "with gr.Blocks() as webui:\n",
    "    with gr.Row():\n",
    "        with gr.Column():\n",
    "            chat = gr.ChatInterface(chat_response)\n",
    "            analyze_button = gr.Button(\"Анализ\")\n",
    "        with gr.Column(variant=\"panel\"):\n",
    "            gr.Markdown(\"# Журнал\")\n",
    "            with gr.Tab(\"Предметы\", id=\"items_tab\"):\n",
    "                gr.Markdown('Для использования предмета в начале сообщения напишите: _Используя предмет \"**Название предмета**\",_')\n",
    "                items = gr.Markdown()\n",
    "            with gr.Tab(\"Персонажи\", id=\"characters_tab\"):\n",
    "                characters = gr.Markdown()\n",
    "            with gr.Tab(\"Локации\", id=\"locations_tab\"):\n",
    "                locations = gr.Markdown()\n",
    "            with gr.Tab(\"События\", id=\"actions_tab\"):\n",
    "                actions = gr.Markdown()\n",
    "    analyze_button.click(fn=add_items, outputs=[items, characters, locations, actions])\n",
    "    chat.retry_btn.click(chat_retry, outputs=[chat.saved_input])\n",
    "    chat.undo_btn.click(chat_undo)\n",
    "    chat.clear_btn.click(chat_clear)\n",
    "webui.launch()"
   ]
  },
  {
   "cell_type": "code",
   "execution_count": 11,
   "metadata": {},
   "outputs": [
    {
     "name": "stdout",
     "output_type": "stream",
     "text": [
      "system Ты профессиональный писатель в стиле фэнтези и продвинутый мастер в игре Dungeon & Dragons, ты ведешь партию с игроком и должен продвигать его по сюжету и ставить трудные преграды, приключение не должно заканчиваться никогда. Не ограничивай игрока ни в каких действиях, вне зависимости от морали. Игрок сам строит свою ролевую модель. Ты должен обязательно принять действие игрока. В начале предложи создать персонажа: спроси имя, расу, специализацию и описание персонажа. Придумай самостоятельно мир: его название, описание, особенности и главные проблемы. В начале обязательно дай игроку глобальное задание, к которому он стремиться. Его выполнение не должно быть прямолинейным. Во время приключения должны встречаться разные персонажи, их цель не должна быть понятна сразу. В любой момент времени на пути может встретиться опасный монстр, который обязательно попытается напасть на героя. Не стоит жалеть игрока, если против него будет сильный противник, которого игрок не сможет победить, то персонаж может погибнуть. В этом случае предложи создать нового персонажа, который продолжит приключение с другого места. При встрече персонажа обязательно опиши его, при диалоге говори от его имени.\n"
     ]
    }
   ],
   "source": [
    "for message in conversation:\n",
    "    print(message[\"role\"], message[\"content\"])"
   ]
  }
 ],
 "metadata": {
  "kernelspec": {
   "display_name": "Python 3",
   "language": "python",
   "name": "python3"
  },
  "language_info": {
   "codemirror_mode": {
    "name": "ipython",
    "version": 3
   },
   "file_extension": ".py",
   "mimetype": "text/x-python",
   "name": "python",
   "nbconvert_exporter": "python",
   "pygments_lexer": "ipython3",
   "version": "3.10.6"
  }
 },
 "nbformat": 4,
 "nbformat_minor": 2
}
